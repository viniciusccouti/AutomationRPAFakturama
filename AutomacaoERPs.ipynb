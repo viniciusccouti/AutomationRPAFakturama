{
 "cells": [
  {
   "cell_type": "code",
   "execution_count": 3,
   "id": "162b2454",
   "metadata": {
    "scrolled": false
   },
   "outputs": [],
   "source": [
    "import pyautogui as py\n",
    "import subprocess\n",
    "import time"
   ]
  },
  {
   "cell_type": "code",
   "execution_count": 6,
   "id": "926dcdfa",
   "metadata": {},
   "outputs": [],
   "source": [
    "py.FAILSAFE = True #if you want to interrupt your coding when a problem happens\n",
    "\n",
    "# open ERP\n",
    "#subprocess.Popen([r\"C:\\Program Files\\Fakturama2\\Fakturama\"])\n",
    "\n",
    "while not py.locateOnScreen(\"logofak.png\", grayscale=True, confidence=0.9): # image recognition\n",
    "    time.sleep(1)\n",
    "    \n",
    "#fakturama is now open\n",
    "\n",
    "# click in New Menu\n",
    "while not py.locateOnScreen(\"logonew.png\", grayscale=True, confidence=0.9): # image recognition\n",
    "    time.sleep(1)\n",
    "button_new_found = py.locateOnScreen(\"logonew.png\", grayscale=True, confidence=0.9)\n",
    "py.click(py.center(button_new_found)) #clicking in the center\n",
    "    \n",
    "# click in new product\n",
    "while not py.locateOnScreen(\"new_product.png\", grayscale=True, confidence=0.9): # image recognition\n",
    "    time.sleep(1)\n",
    "button_new_found = py.locateOnScreen(\"new_product.png\", grayscale=True, confidence=0.9)\n",
    "py.click(py.center(button_new_found)) #clicking in the center\n",
    "\n",
    "# fill all spaces\n",
    "\n",
    "# choose an image\n",
    "\n",
    "# click in save"
   ]
  },
  {
   "cell_type": "code",
   "execution_count": null,
   "id": "bba8e914",
   "metadata": {},
   "outputs": [],
   "source": []
  },
  {
   "cell_type": "code",
   "execution_count": null,
   "id": "cce857f3",
   "metadata": {},
   "outputs": [],
   "source": []
  }
 ],
 "metadata": {
  "kernelspec": {
   "display_name": "Python 3 (ipykernel)",
   "language": "python",
   "name": "python3"
  },
  "language_info": {
   "codemirror_mode": {
    "name": "ipython",
    "version": 3
   },
   "file_extension": ".py",
   "mimetype": "text/x-python",
   "name": "python",
   "nbconvert_exporter": "python",
   "pygments_lexer": "ipython3",
   "version": "3.9.18"
  }
 },
 "nbformat": 4,
 "nbformat_minor": 5
}
