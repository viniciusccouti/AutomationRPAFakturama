{
 "cells": [
  {
   "cell_type": "code",
   "execution_count": 1,
   "id": "162b2454",
   "metadata": {
    "scrolled": false
   },
   "outputs": [],
   "source": [
    "import pyautogui as py\n",
    "import subprocess"
   ]
  },
  {
   "cell_type": "code",
   "execution_count": null,
   "id": "926dcdfa",
   "metadata": {},
   "outputs": [],
   "source": [
    "# image recognition\n",
    "# open ERP\n",
    "subprocess.Popen()\n",
    "\n",
    "# click in New Menu\n",
    "\n",
    "# click in new product\n",
    "\n",
    "# fill all spaces\n",
    "\n",
    "# choose an image\n",
    "\n",
    "# click in save"
   ]
  }
 ],
 "metadata": {
  "kernelspec": {
   "display_name": "Python 3 (ipykernel)",
   "language": "python",
   "name": "python3"
  },
  "language_info": {
   "codemirror_mode": {
    "name": "ipython",
    "version": 3
   },
   "file_extension": ".py",
   "mimetype": "text/x-python",
   "name": "python",
   "nbconvert_exporter": "python",
   "pygments_lexer": "ipython3",
   "version": "3.9.18"
  }
 },
 "nbformat": 4,
 "nbformat_minor": 5
}
